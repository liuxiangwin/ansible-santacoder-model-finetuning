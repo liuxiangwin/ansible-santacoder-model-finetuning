{
 "cells": [
  {
   "cell_type": "markdown",
   "id": "b934f46e-c4ab-497a-8aff-28f6fe0ba7f1",
   "metadata": {},
   "source": [
    "# Test the model\n",
    "Run the appropriate cell below to test YAML or Ansible generation"
   ]
  },
  {
   "cell_type": "markdown",
   "id": "b00b2f05-31dd-4a58-8614-35ec0d711aa6",
   "metadata": {},
   "source": [
    "### Test YAML"
   ]
  },
  {
   "cell_type": "code",
   "execution_count": null,
   "id": "969d3193-2a1a-4b55-8a3e-3d6bc709d8db",
   "metadata": {},
   "outputs": [],
   "source": [
    "checkpoint = \"santacoder-finetuned-the-stack-yaml\"\n",
    "test_input = \"- hello: world\""
   ]
  },
  {
   "cell_type": "markdown",
   "id": "b7fc3fd1-4808-4054-b340-df45652394ad",
   "metadata": {},
   "source": [
    "### Test Ansible"
   ]
  },
  {
   "cell_type": "code",
   "execution_count": null,
   "id": "924343cb-9e9d-46cc-a0cf-304ae27f4303",
   "metadata": {},
   "outputs": [],
   "source": [
    "checkpoint = \"santacoder-finetuned-the-stack-ansible-ec2\"\n",
    "test_input = \"- name: start an instance type g5.xlarge\""
   ]
  },
  {
   "cell_type": "code",
   "execution_count": null,
   "id": "91e17b7a-8315-4e11-aa31-3edf27fe0820",
   "metadata": {},
   "outputs": [],
   "source": [
    "!pip install transformers torch"
   ]
  },
  {
   "cell_type": "code",
   "execution_count": null,
   "id": "b1eeacd3-8494-4344-8cdf-deb35e17bcef",
   "metadata": {},
   "outputs": [],
   "source": [
    "from transformers import AutoModelForCausalLM, AutoTokenizer\n",
    "\n",
    "pretrained = \"bigcode/santacoder\"\n",
    "device = \"cuda\" # for GPU usage or \"cpu\" for CPU usage"
   ]
  },
  {
   "cell_type": "code",
   "execution_count": null,
   "id": "0a5d7a72-8f7b-4878-96a8-f49346214a0b",
   "metadata": {},
   "outputs": [],
   "source": [
    "tokenizer = AutoTokenizer.from_pretrained(pretrained, trust_remote_code=True)"
   ]
  },
  {
   "cell_type": "code",
   "execution_count": null,
   "id": "790507a1-33d1-40f4-a47b-a1039c10b6d0",
   "metadata": {},
   "outputs": [],
   "source": [
    "model = AutoModelForCausalLM.from_pretrained(checkpoint, trust_remote_code=True).to(device)"
   ]
  },
  {
   "cell_type": "code",
   "execution_count": null,
   "id": "3eb5cfc1-cc47-4e58-9245-e478da01289d",
   "metadata": {},
   "outputs": [],
   "source": [
    "tokenizer.pad_token = tokenizer.eos_token\n",
    "encoding = tokenizer.encode_plus(\n",
    "    test_input,\n",
    "    add_special_tokens=True,\n",
    "    padding='longest',\n",
    "    max_length=128,\n",
    "    truncation=True,\n",
    "    return_tensors='pt'\n",
    ").to(device)\n",
    "input_ids = encoding['input_ids']\n",
    "attention_mask = encoding['attention_mask']\n",
    "output_ids = model.generate(\n",
    "    input_ids=input_ids,\n",
    "    attention_mask=attention_mask,\n",
    "    max_length=128,\n",
    "    num_return_sequences=1,\n",
    "    pad_token_id=tokenizer.eos_token_id\n",
    ")\n",
    "print(tokenizer.decode(output_ids[0], skip_special_tokens=True))"
   ]
  }
 ],
 "metadata": {
  "kernelspec": {
   "display_name": "Python 3.9.14",
   "language": "python",
   "name": "python3"
  },
  "language_info": {
   "codemirror_mode": {
    "name": "ipython",
    "version": 3
   },
   "file_extension": ".py",
   "mimetype": "text/x-python",
   "name": "python",
   "nbconvert_exporter": "python",
   "pygments_lexer": "ipython3",
   "version": "3.9.14"
  }
 },
 "nbformat": 4,
 "nbformat_minor": 5
}
